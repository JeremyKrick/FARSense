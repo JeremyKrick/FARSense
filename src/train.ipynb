{
 "cells": [
  {
   "cell_type": "markdown",
   "metadata": {},
   "source": [
    "## Imports"
   ]
  },
  {
   "cell_type": "code",
   "execution_count": 1,
   "metadata": {},
   "outputs": [],
   "source": [
    "# DO NOT CHANGE THESE LINES.\n",
    "import os\n",
    "import json\n",
    "import pandas as pd\n",
    "import warnings\n",
    "from sklearn.linear_model import LogisticRegression\n",
    "from feature_engine.encoding import OneHotEncoder\n",
    "from sklearn.preprocessing import LabelEncoder\n",
    "from joblib import dump\n",
    "warnings.filterwarnings('ignore')"
   ]
  },
  {
   "cell_type": "markdown",
   "metadata": {},
   "source": [
    "## Paths"
   ]
  },
  {
   "cell_type": "code",
   "execution_count": 2,
   "metadata": {},
   "outputs": [],
   "source": [
    "# DO NOT CHANGE THESE LINES.\n",
    "ROOT_DIR = os.path.dirname(os.getcwd())\n",
    "MODEL_INPUTS_OUTPUTS = os.path.join(ROOT_DIR, 'model_inputs_outputs/')\n",
    "INPUT_DIR = os.path.join(MODEL_INPUTS_OUTPUTS, \"inputs\")\n",
    "INPUT_SCHEMA_DIR = os.path.join(INPUT_DIR, \"schema\")\n",
    "DATA_DIR = os.path.join(INPUT_DIR, \"data\")\n",
    "TRAIN_DIR = os.path.join(DATA_DIR, \"training\")\n",
    "TEST_DIR = os.path.join(DATA_DIR, \"testing\")\n",
    "MODEL_PATH = os.path.join(MODEL_INPUTS_OUTPUTS, \"model\")\n",
    "MODEL_ARTIFACTS_PATH = os.path.join(MODEL_PATH, \"artifacts\")\n",
    "OHE_ENCODER_FILE = os.path.join(MODEL_ARTIFACTS_PATH, 'ohe.joblib')\n",
    "LABEL_ENCODER_FILE = os.path.join(MODEL_ARTIFACTS_PATH, 'label_encoder.joblib')\n",
    "PREDICTOR_DIR_PATH = os.path.join(MODEL_ARTIFACTS_PATH, \"predictor\")\n",
    "PREDICTOR_FILE_PATH = os.path.join(PREDICTOR_DIR_PATH, \"predictor.joblib\")\n",
    "IMPUTATION_FILE = os.path.join(MODEL_ARTIFACTS_PATH, 'imputation.joblib')\n",
    "if not os.path.exists(MODEL_ARTIFACTS_PATH):\n",
    "    os.makedirs(MODEL_ARTIFACTS_PATH)\n",
    "if not os.path.exists(PREDICTOR_DIR_PATH):\n",
    "    os.makedirs(PREDICTOR_DIR_PATH)"
   ]
  },
  {
   "cell_type": "markdown",
   "metadata": {},
   "source": [
    "### Reading the schema\n",
    "The schema contains metadata about the datasets. We will use the schema to get information about the type of each feature (NUMERIC or CATEGORICAL) and the id and target features, this will be helpful in preprocessing stage."
   ]
  },
  {
   "cell_type": "code",
   "execution_count": 3,
   "metadata": {},
   "outputs": [],
   "source": [
    "file_name = [f for f in os.listdir(INPUT_SCHEMA_DIR) if f.endswith('json')][0]\n",
    "schema_path = os.path.join(INPUT_SCHEMA_DIR, file_name)\n",
    "with open(schema_path, \"r\", encoding=\"utf-8\") as file:\n",
    "    schema = json.load(file)\n",
    "features = schema['features']\n",
    "\n",
    "numeric_features = []\n",
    "categorical_features = []\n",
    "for f in features:\n",
    "    if f['dataType'] == 'CATEGORICAL':\n",
    "        categorical_features.append(f['name'])\n",
    "    else:\n",
    "        numeric_features.append(f['name'])\n",
    "\n",
    "id_feature = schema['id']['name']\n",
    "target_feature = schema['target']['name']"
   ]
  },
  {
   "cell_type": "markdown",
   "metadata": {},
   "source": [
    "### Reading training data"
   ]
  },
  {
   "cell_type": "code",
   "execution_count": 4,
   "metadata": {},
   "outputs": [
    {
     "data": {
      "text/html": [
       "<div>\n",
       "<style scoped>\n",
       "    .dataframe tbody tr th:only-of-type {\n",
       "        vertical-align: middle;\n",
       "    }\n",
       "\n",
       "    .dataframe tbody tr th {\n",
       "        vertical-align: top;\n",
       "    }\n",
       "\n",
       "    .dataframe thead th {\n",
       "        text-align: right;\n",
       "    }\n",
       "</style>\n",
       "<table border=\"1\" class=\"dataframe\">\n",
       "  <thead>\n",
       "    <tr style=\"text-align: right;\">\n",
       "      <th></th>\n",
       "      <th>id</th>\n",
       "      <th>color</th>\n",
       "      <th>number</th>\n",
       "      <th>target</th>\n",
       "    </tr>\n",
       "  </thead>\n",
       "  <tbody>\n",
       "    <tr>\n",
       "      <th>0</th>\n",
       "      <td>ISYOV2</td>\n",
       "      <td>Green</td>\n",
       "      <td>37.0</td>\n",
       "      <td>1</td>\n",
       "    </tr>\n",
       "    <tr>\n",
       "      <th>1</th>\n",
       "      <td>IIOR9Y</td>\n",
       "      <td>NaN</td>\n",
       "      <td>5.0</td>\n",
       "      <td>1</td>\n",
       "    </tr>\n",
       "    <tr>\n",
       "      <th>2</th>\n",
       "      <td>7M1IK2</td>\n",
       "      <td>Green</td>\n",
       "      <td>59.0</td>\n",
       "      <td>0</td>\n",
       "    </tr>\n",
       "    <tr>\n",
       "      <th>3</th>\n",
       "      <td>8J0EFC</td>\n",
       "      <td>Green</td>\n",
       "      <td>24.0</td>\n",
       "      <td>1</td>\n",
       "    </tr>\n",
       "    <tr>\n",
       "      <th>4</th>\n",
       "      <td>47405S</td>\n",
       "      <td>Blue</td>\n",
       "      <td>52.0</td>\n",
       "      <td>0</td>\n",
       "    </tr>\n",
       "  </tbody>\n",
       "</table>\n",
       "</div>"
      ],
      "text/plain": [
       "       id  color  number  target\n",
       "0  ISYOV2  Green    37.0       1\n",
       "1  IIOR9Y    NaN     5.0       1\n",
       "2  7M1IK2  Green    59.0       0\n",
       "3  8J0EFC  Green    24.0       1\n",
       "4  47405S   Blue    52.0       0"
      ]
     },
     "execution_count": 4,
     "metadata": {},
     "output_type": "execute_result"
    }
   ],
   "source": [
    "file_name = [f for f in os.listdir(TRAIN_DIR) if f.endswith('.csv')][0]\n",
    "file_path = os.path.join(TRAIN_DIR, file_name)\n",
    "df = pd.read_csv(file_path)\n",
    "df.head()"
   ]
  },
  {
   "cell_type": "markdown",
   "metadata": {},
   "source": [
    "## Data Preprocessing\n",
    "Data preprocessing is very important before training the model, as the data may contain missing values in some cells. Moreover, most of the learning algorithms cannot work with categorical data, thus the data has to be encoded.\n",
    "\n",
    "In this section we will impute the missing values and encode the categorical features. Afterwards the data will be ready to train the model."
   ]
  },
  {
   "cell_type": "markdown",
   "metadata": {},
   "source": [
    "##### Imputing missing data\n",
    "> In this section we imputed the missing values using the mode. However in many cases the mode is not an optimal value. You can try your own imputation and compare the results."
   ]
  },
  {
   "cell_type": "code",
   "execution_count": 5,
   "metadata": {},
   "outputs": [
    {
     "data": {
      "text/plain": [
       "'\\nBEGIN\\n\\nCODE HERE\\n\\nEND\\n'"
      ]
     },
     "execution_count": 5,
     "metadata": {},
     "output_type": "execute_result"
    }
   ],
   "source": [
    "# Imputing missing data\n",
    "columns_with_missing_values = df.columns[df.isna().any()]\n",
    "imputaion_values = {}\n",
    "for column in columns_with_missing_values:\n",
    "    mode = df[column].mode()[0]\n",
    "    df[column].fillna(mode, inplace=True)\n",
    "    imputaion_values[column] = mode\n",
    "\n",
    "path = dump(imputaion_values, IMPUTATION_FILE)\n",
    "\n",
    "# Comment the above code and write you own imputation code here\n",
    "\n",
    "\"\"\"\n",
    "BEGIN\n",
    "\n",
    "CODE HERE\n",
    "\n",
    "END\n",
    "\"\"\"\n"
   ]
  },
  {
   "cell_type": "markdown",
   "metadata": {},
   "source": [
    "##### Encoding Categorical features\n",
    "> Notice that we do not want to encode the target feature nor the id column."
   ]
  },
  {
   "cell_type": "code",
   "execution_count": 6,
   "metadata": {},
   "outputs": [],
   "source": [
    "# Saving the id and target columns in a different variable.\n",
    "ids = df[id_feature]\n",
    "target = df[target_feature]\n",
    "\n",
    "# Dropping the id and target from the dataframe\n",
    "df.drop(columns=[id_feature, target_feature], inplace=True)\n",
    "\n",
    "# Ensure that all categorical columns are stored as str type.\n",
    "# This is to ensure that even if the categories are numbers (1, 2, ...), they still get encoded.\n",
    "for c in categorical_features:\n",
    "    df[c] = df[c].astype(str)\n",
    "\n",
    "# Encoding the features\n",
    "encoder = OneHotEncoder(top_categories=6)\n",
    "encoder.fit(df)\n",
    "df = encoder.transform(df)\n",
    "\n",
    "# Saving the encoder to use it on the testing dataset\n",
    "path = dump(encoder, OHE_ENCODER_FILE)\n"
   ]
  },
  {
   "cell_type": "markdown",
   "metadata": {},
   "source": [
    "#### Encoding the target feature"
   ]
  },
  {
   "cell_type": "code",
   "execution_count": 7,
   "metadata": {},
   "outputs": [
    {
     "data": {
      "text/plain": [
       "array([1, 1, 0, 1, 0, 0, 0, 0, 0, 0, 0, 0, 0, 1, 0, 0, 0, 0, 0, 0, 0, 0,\n",
       "       0, 0, 0, 1, 0, 1, 0, 0, 2, 0, 2, 0, 0, 1, 1, 0, 0, 0, 2, 0, 0, 2,\n",
       "       0, 2, 1, 0, 0, 0, 0, 2, 2, 2, 1, 0, 2, 0, 2, 2, 0, 0, 1, 0, 0, 0,\n",
       "       0, 2, 0, 0, 0, 0, 0, 0, 0, 0, 0, 0, 0, 0, 0, 0, 0, 2, 1, 2, 0, 0,\n",
       "       2, 0, 1, 0, 0, 0, 1, 0, 1, 0, 0, 2, 0, 0, 0, 1, 0, 0, 0, 0, 0, 0,\n",
       "       0, 0, 0, 0, 0, 0, 0, 0, 2, 0, 0, 0, 0, 0, 0, 2, 0, 0, 0, 1, 1, 1,\n",
       "       1, 0, 1, 0, 0, 0, 0, 0, 0, 0, 0, 1, 0, 2, 2, 1, 0, 0, 2, 0, 0, 1,\n",
       "       1, 1, 0, 2, 2, 2])"
      ]
     },
     "execution_count": 7,
     "metadata": {},
     "output_type": "execute_result"
    }
   ],
   "source": [
    "encoder = LabelEncoder()\n",
    "y = encoder.fit_transform(target.values.reshape(-1, 1))\n",
    "dump(encoder, LABEL_ENCODER_FILE)\n",
    "y"
   ]
  },
  {
   "cell_type": "code",
   "execution_count": 8,
   "metadata": {},
   "outputs": [
    {
     "data": {
      "text/html": [
       "<div>\n",
       "<style scoped>\n",
       "    .dataframe tbody tr th:only-of-type {\n",
       "        vertical-align: middle;\n",
       "    }\n",
       "\n",
       "    .dataframe tbody tr th {\n",
       "        vertical-align: top;\n",
       "    }\n",
       "\n",
       "    .dataframe thead th {\n",
       "        text-align: right;\n",
       "    }\n",
       "</style>\n",
       "<table border=\"1\" class=\"dataframe\">\n",
       "  <thead>\n",
       "    <tr style=\"text-align: right;\">\n",
       "      <th></th>\n",
       "      <th>number</th>\n",
       "      <th>color_Blue</th>\n",
       "      <th>color_Green</th>\n",
       "      <th>color_Red</th>\n",
       "    </tr>\n",
       "  </thead>\n",
       "  <tbody>\n",
       "    <tr>\n",
       "      <th>0</th>\n",
       "      <td>37.0</td>\n",
       "      <td>0</td>\n",
       "      <td>1</td>\n",
       "      <td>0</td>\n",
       "    </tr>\n",
       "    <tr>\n",
       "      <th>1</th>\n",
       "      <td>5.0</td>\n",
       "      <td>1</td>\n",
       "      <td>0</td>\n",
       "      <td>0</td>\n",
       "    </tr>\n",
       "    <tr>\n",
       "      <th>2</th>\n",
       "      <td>59.0</td>\n",
       "      <td>0</td>\n",
       "      <td>1</td>\n",
       "      <td>0</td>\n",
       "    </tr>\n",
       "    <tr>\n",
       "      <th>3</th>\n",
       "      <td>24.0</td>\n",
       "      <td>0</td>\n",
       "      <td>1</td>\n",
       "      <td>0</td>\n",
       "    </tr>\n",
       "    <tr>\n",
       "      <th>4</th>\n",
       "      <td>52.0</td>\n",
       "      <td>1</td>\n",
       "      <td>0</td>\n",
       "      <td>0</td>\n",
       "    </tr>\n",
       "  </tbody>\n",
       "</table>\n",
       "</div>"
      ],
      "text/plain": [
       "   number  color_Blue  color_Green  color_Red\n",
       "0    37.0           0            1          0\n",
       "1     5.0           1            0          0\n",
       "2    59.0           0            1          0\n",
       "3    24.0           0            1          0\n",
       "4    52.0           1            0          0"
      ]
     },
     "execution_count": 8,
     "metadata": {},
     "output_type": "execute_result"
    }
   ],
   "source": [
    "df.head()"
   ]
  },
  {
   "cell_type": "markdown",
   "metadata": {},
   "source": [
    "### Training the Classifier\n",
    "We choose Logistic Regression Classifier, but feel free to try your own and compare the results."
   ]
  },
  {
   "cell_type": "code",
   "execution_count": 9,
   "metadata": {},
   "outputs": [],
   "source": [
    "# Creating a logistic regression model and training it\n",
    "model = LogisticRegression()\n",
    "model.fit(df, y)\n",
    "\n",
    "\"\"\"\n",
    "BEGIN\n",
    "\n",
    "model = ...\n",
    "\n",
    "END\n",
    "\"\"\"\n",
    "\n",
    "# Saving the model to use it for predictions\n",
    "path = dump(model, PREDICTOR_FILE_PATH)\n"
   ]
  }
 ],
 "metadata": {
  "kernelspec": {
   "display_name": "Python 3",
   "language": "python",
   "name": "python3"
  },
  "language_info": {
   "codemirror_mode": {
    "name": "ipython",
    "version": 3
   },
   "file_extension": ".py",
   "mimetype": "text/x-python",
   "name": "python",
   "nbconvert_exporter": "python",
   "pygments_lexer": "ipython3",
   "version": "3.10.8"
  },
  "orig_nbformat": 4
 },
 "nbformat": 4,
 "nbformat_minor": 2
}
